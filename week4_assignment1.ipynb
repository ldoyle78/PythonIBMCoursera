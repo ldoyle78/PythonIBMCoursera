{
 "cells": [
  {
   "cell_type": "code",
   "execution_count": 9,
   "metadata": {},
   "outputs": [
    {
     "name": "stdout",
     "output_type": "stream",
     "text": [
      "C:\\Users\\ldoyl\\OneDrive\\Desktop\\my_projects\\python_practice\\IBMCoursera\n",
      "[]\n"
     ]
    }
   ],
   "source": [
    "import os\n",
    "os.chdir(\"/Users/ldoyl/OneDrive/Desktop/my_projects/python_practice/IBMCoursera\")\n",
    "new_path = os.getcwd()\n",
    "print(new_path)\n",
    "files = os.listdir()\n",
    "print(files)"
   ]
  },
  {
   "cell_type": "markdown",
   "metadata": {},
   "source": [
    "## IBM Python for Data Science, AI and Development (Coursera)\n",
    "The following code is provided in a lab in week 4 to generate a file of members(20 rows) and another file of ex-members(3 rows) of a team with columns Membership Number, Date and Active(yes or no)"
   ]
  },
  {
   "cell_type": "code",
   "execution_count": 10,
   "metadata": {},
   "outputs": [],
   "source": [
    "from random import randint as rnd\n",
    "\n",
    "memReg = \"members.txt\"\n",
    "exReg = \"inactive.txt\"\n",
    "fee = (\"yes\",\"no\")\n",
    "\n",
    "def genfiles(current, old):\n",
    "    with open(current, \"w+\") as writefile:\n",
    "        writefile.write(\"Membership No Date Joined Active \\n\")\n",
    "        data = \"{:^13} {:<11} {:<6}\\n\" #I don't know what this lines does)\n",
    "        \n",
    "        for rowno in range(20):\n",
    "            date = str(rnd(2015,2020)) + \"-\" + str(rnd(1,12)) + \"-\" + str(rnd(1,25))\n",
    "            writefile.write(data.format(rnd(10000, 99999), date, fee[rnd(0,1)]))\n",
    "       \n",
    "    \n",
    "    with open(old, \"w+\") as writefile:\n",
    "        writefile.write(\"Membership No Date Joined Active \\n\")\n",
    "        data = \"{:^13} {:<11} {:<6}\\n\"\n",
    "        \n",
    "        for rowno in range(3):\n",
    "            date = str(rnd(2015,2020)) + \"-\" + str(rnd(1,12)) + \"-\" + str(rnd(1,25))\n",
    "            writefile.write(data.format(rnd(10000, 99999), date, fee[1]))\n",
    "        \n",
    "genfiles(memReg, exReg)"
   ]
  },
  {
   "cell_type": "markdown",
   "metadata": {},
   "source": [
    "## Solution\n",
    "The below code is written by me. It takes the registered members file memReg, searches for those members with \"no\" in the \"active\" column, adds them to the inactive members list and creates a list of active members only. It then saves the inctive list to a file new_inactive_members and the active list to a file new_active_members"
   ]
  },
  {
   "cell_type": "code",
   "execution_count": 11,
   "metadata": {},
   "outputs": [
    {
     "name": "stdout",
     "output_type": "stream",
     "text": [
      "List of inactive members: [['47909', '2017-3-2', 'no'], ['29905', '2017-10-7', 'no'], ['33284', '2016-6-5', 'no'], ['63468', '2019-4-4', 'no'], ['92569', '2018-6-5', 'no'], ['56918', '2016-11-15', 'no'], ['33036', '2017-3-7', 'no'], ['97180', '2018-2-16', 'no'], ['28657', '2018-9-23', 'no']]\n",
      "Number of inactive members: 9\n",
      "List of active members: [['56979', '2015-12-11', 'yes'], ['56354', '2016-3-20', 'yes'], ['78578', '2016-1-25', 'yes'], ['95539', '2017-10-15', 'yes'], ['39760', '2015-3-17', 'yes'], ['77251', '2015-3-23', 'yes'], ['14770', '2019-5-11', 'yes'], ['19437', '2017-10-1', 'yes'], ['85794', '2020-6-19', 'yes'], ['28832', '2020-10-24', 'yes'], ['27122', '2015-4-23', 'yes']]\n",
      "Number of active members: 11\n"
     ]
    }
   ],
   "source": [
    "with open (memReg, \"r+\") as currentMem:\n",
    "    header = currentMem.readline()\n",
    "    file_content = currentMem.readlines()\n",
    "\n",
    "inactive = []\n",
    "active = []\n",
    "i = 0\n",
    "\n",
    "# finds all the members who are inactive and adds them to a list \"inactive\"\n",
    "for entry in file_content:\n",
    "    member = entry.split() ##member is a list of 3 elements [number, date, active?]\n",
    "    if (i < len(file_content) and (member[2] == \"no\")):\n",
    "        inactive.append(member) ##inactive is a list of lists  \n",
    "    else:\n",
    "        active.append(member)\n",
    "        \n",
    "# add inactive to the exReg file\n",
    "print(\"List of inactive members:\", inactive)\n",
    "print(\"Number of inactive members:\", len(inactive))\n",
    "print(\"List of active members:\", active)\n",
    "print(\"Number of active members:\", len(active))\n",
    "\n",
    "## I still need to figure out how to change active and inactive into a table format persumably I can reuse code from cell above\n",
    "with open(\"new_active_members.txt\", \"w\") as file_3:\n",
    "    file_3.write(str(active))\n",
    "    \n",
    "with open(\"new_inactive_members.txt\", \"w\") as file_4:\n",
    "    file_4.write(str(inactive))   "
   ]
  },
  {
   "cell_type": "markdown",
   "metadata": {},
   "source": [
    "## Playing with this data and Pandas"
   ]
  },
  {
   "cell_type": "code",
   "execution_count": 20,
   "metadata": {},
   "outputs": [
    {
     "data": {
      "text/html": [
       "<div>\n",
       "<style scoped>\n",
       "    .dataframe tbody tr th:only-of-type {\n",
       "        vertical-align: middle;\n",
       "    }\n",
       "\n",
       "    .dataframe tbody tr th {\n",
       "        vertical-align: top;\n",
       "    }\n",
       "\n",
       "    .dataframe thead th {\n",
       "        text-align: right;\n",
       "    }\n",
       "</style>\n",
       "<table border=\"1\" class=\"dataframe\">\n",
       "  <thead>\n",
       "    <tr style=\"text-align: right;\">\n",
       "      <th></th>\n",
       "      <th>0</th>\n",
       "      <th>1</th>\n",
       "      <th>2</th>\n",
       "    </tr>\n",
       "  </thead>\n",
       "  <tbody>\n",
       "    <tr>\n",
       "      <th>0</th>\n",
       "      <td>47909</td>\n",
       "      <td>2017-3-2</td>\n",
       "      <td>no</td>\n",
       "    </tr>\n",
       "    <tr>\n",
       "      <th>1</th>\n",
       "      <td>29905</td>\n",
       "      <td>2017-10-7</td>\n",
       "      <td>no</td>\n",
       "    </tr>\n",
       "    <tr>\n",
       "      <th>2</th>\n",
       "      <td>56979</td>\n",
       "      <td>2015-12-11</td>\n",
       "      <td>yes</td>\n",
       "    </tr>\n",
       "    <tr>\n",
       "      <th>3</th>\n",
       "      <td>56354</td>\n",
       "      <td>2016-3-20</td>\n",
       "      <td>yes</td>\n",
       "    </tr>\n",
       "    <tr>\n",
       "      <th>4</th>\n",
       "      <td>33284</td>\n",
       "      <td>2016-6-5</td>\n",
       "      <td>no</td>\n",
       "    </tr>\n",
       "  </tbody>\n",
       "</table>\n",
       "</div>"
      ],
      "text/plain": [
       "       0           1    2\n",
       "0  47909    2017-3-2   no\n",
       "1  29905   2017-10-7   no\n",
       "2  56979  2015-12-11  yes\n",
       "3  56354   2016-3-20  yes\n",
       "4  33284    2016-6-5   no"
      ]
     },
     "execution_count": 20,
     "metadata": {},
     "output_type": "execute_result"
    }
   ],
   "source": [
    "import pandas as pd\n",
    "file_total = []\n",
    "for entry in file_content:\n",
    "    file = entry.split()\n",
    "    file_total.append(file)\n",
    "file_df = pd.DataFrame(file_total)\n",
    "file_df.head()"
   ]
  },
  {
   "cell_type": "code",
   "execution_count": 21,
   "metadata": {},
   "outputs": [
    {
     "data": {
      "text/plain": [
       "(20, 3)"
      ]
     },
     "execution_count": 21,
     "metadata": {},
     "output_type": "execute_result"
    }
   ],
   "source": [
    "file_df.shape"
   ]
  },
  {
   "cell_type": "code",
   "execution_count": 22,
   "metadata": {},
   "outputs": [
    {
     "data": {
      "text/plain": [
       "yes    11\n",
       "no      9\n",
       "Name: 2, dtype: int64"
      ]
     },
     "execution_count": 22,
     "metadata": {},
     "output_type": "execute_result"
    }
   ],
   "source": [
    "file_df[2].value_counts()"
   ]
  },
  {
   "cell_type": "code",
   "execution_count": 23,
   "metadata": {},
   "outputs": [
    {
     "data": {
      "text/html": [
       "<div>\n",
       "<style scoped>\n",
       "    .dataframe tbody tr th:only-of-type {\n",
       "        vertical-align: middle;\n",
       "    }\n",
       "\n",
       "    .dataframe tbody tr th {\n",
       "        vertical-align: top;\n",
       "    }\n",
       "\n",
       "    .dataframe thead th {\n",
       "        text-align: right;\n",
       "    }\n",
       "</style>\n",
       "<table border=\"1\" class=\"dataframe\">\n",
       "  <thead>\n",
       "    <tr style=\"text-align: right;\">\n",
       "      <th></th>\n",
       "      <th>Membership No</th>\n",
       "      <th>Date Joined</th>\n",
       "      <th>Active</th>\n",
       "    </tr>\n",
       "  </thead>\n",
       "  <tbody>\n",
       "    <tr>\n",
       "      <th>0</th>\n",
       "      <td>47909</td>\n",
       "      <td>2017-3-2</td>\n",
       "      <td>no</td>\n",
       "    </tr>\n",
       "    <tr>\n",
       "      <th>1</th>\n",
       "      <td>29905</td>\n",
       "      <td>2017-10-7</td>\n",
       "      <td>no</td>\n",
       "    </tr>\n",
       "    <tr>\n",
       "      <th>2</th>\n",
       "      <td>56979</td>\n",
       "      <td>2015-12-11</td>\n",
       "      <td>yes</td>\n",
       "    </tr>\n",
       "    <tr>\n",
       "      <th>3</th>\n",
       "      <td>56354</td>\n",
       "      <td>2016-3-20</td>\n",
       "      <td>yes</td>\n",
       "    </tr>\n",
       "    <tr>\n",
       "      <th>4</th>\n",
       "      <td>33284</td>\n",
       "      <td>2016-6-5</td>\n",
       "      <td>no</td>\n",
       "    </tr>\n",
       "  </tbody>\n",
       "</table>\n",
       "</div>"
      ],
      "text/plain": [
       "  Membership No Date Joined Active\n",
       "0         47909    2017-3-2     no\n",
       "1         29905   2017-10-7     no\n",
       "2         56979  2015-12-11    yes\n",
       "3         56354   2016-3-20    yes\n",
       "4         33284    2016-6-5     no"
      ]
     },
     "execution_count": 23,
     "metadata": {},
     "output_type": "execute_result"
    }
   ],
   "source": [
    "file_df.columns = [\"Membership No\", \"Date Joined\", \"Active\"]\n",
    "file_df.head()"
   ]
  },
  {
   "cell_type": "code",
   "execution_count": null,
   "metadata": {},
   "outputs": [],
   "source": []
  }
 ],
 "metadata": {
  "kernelspec": {
   "display_name": "Python 3",
   "language": "python",
   "name": "python3"
  },
  "language_info": {
   "codemirror_mode": {
    "name": "ipython",
    "version": 3
   },
   "file_extension": ".py",
   "mimetype": "text/x-python",
   "name": "python",
   "nbconvert_exporter": "python",
   "pygments_lexer": "ipython3",
   "version": "3.8.3"
  }
 },
 "nbformat": 4,
 "nbformat_minor": 4
}
